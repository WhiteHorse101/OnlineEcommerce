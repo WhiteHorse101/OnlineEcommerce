{
 "cells": [
  {
   "cell_type": "code",
   "execution_count": null,
   "id": "77658d22",
   "metadata": {},
   "outputs": [
    {
     "name": "stderr",
     "output_type": "stream",
     "text": [
      "WARNING:dotenv.main:Python-dotenv could not parse statement starting at line 2\n",
      "WARNING:dotenv.main:Python-dotenv could not parse statement starting at line 3\n",
      "WARNING:dotenv.main:Python-dotenv could not parse statement starting at line 4\n"
     ]
    },
    {
     "data": {
      "text/plain": [
       "True"
      ]
     },
     "execution_count": 25,
     "metadata": {},
     "output_type": "execute_result"
    }
   ],
   "source": [
    "from dotenv import load_dotenv\n",
    "from pyspark.sql.functions import col, when, count, round \n",
    "import os\n",
    "\n",
    "load_dotenv()"
   ]
  },
  {
   "cell_type": "code",
   "execution_count": 16,
   "id": "15ad067f",
   "metadata": {},
   "outputs": [
    {
     "name": "stderr",
     "output_type": "stream",
     "text": [
      "25/04/21 15:39:53 WARN SparkSession: Using an existing Spark session; only runtime SQL configurations will take effect.\n"
     ]
    }
   ],
   "source": [
    "from pyspark.sql import SparkSession\n",
    "\n",
    "spark = SparkSession.builder \\\n",
    "    .appName(\"RetailEDA\") \\\n",
    "    .config(\"spark.jars.packages\", \"org.apache.hadoop:hadoop-azure:3.3.1\") \\\n",
    "    .config(\"fs.azure.account.key.dataintensiveproject.blob.core.windows.net\", os.getenv(\"AZURE_STORAGE_KEY\")) \\\n",
    "    .getOrCreate()"
   ]
  },
  {
   "cell_type": "code",
   "execution_count": 17,
   "id": "2f19faf1",
   "metadata": {},
   "outputs": [
    {
     "name": "stderr",
     "output_type": "stream",
     "text": [
      "                                                                                \r"
     ]
    },
    {
     "name": "stdout",
     "output_type": "stream",
     "text": [
      "root\n",
      " |-- InvoiceNo: string (nullable = true)\n",
      " |-- StockCode: string (nullable = true)\n",
      " |-- Description: string (nullable = true)\n",
      " |-- Quantity: long (nullable = true)\n",
      " |-- InvoiceDate: timestamp_ntz (nullable = true)\n",
      " |-- UnitPrice: double (nullable = true)\n",
      " |-- CustomerID: double (nullable = true)\n",
      " |-- Country: string (nullable = true)\n",
      " |-- InvoiceYear: integer (nullable = true)\n",
      " |-- InvoiceMonth: integer (nullable = true)\n",
      " |-- InvoiceWeekday: integer (nullable = true)\n",
      " |-- InvoiceHour: integer (nullable = true)\n",
      "\n"
     ]
    },
    {
     "name": "stderr",
     "output_type": "stream",
     "text": [
      "[Stage 1:>                                                          (0 + 1) / 1]\r"
     ]
    },
    {
     "name": "stdout",
     "output_type": "stream",
     "text": [
      "+---------+---------+--------------------+--------+-------------------+---------+----------+--------------+-----------+------------+--------------+-----------+\n",
      "|InvoiceNo|StockCode|         Description|Quantity|        InvoiceDate|UnitPrice|CustomerID|       Country|InvoiceYear|InvoiceMonth|InvoiceWeekday|InvoiceHour|\n",
      "+---------+---------+--------------------+--------+-------------------+---------+----------+--------------+-----------+------------+--------------+-----------+\n",
      "|   536365|   85123A|WHITE HANGING HEA...|       6|2010-12-01 08:26:00|     2.55|   17850.0|United Kingdom|       2010|          12|             4|          8|\n",
      "|   536365|    71053| WHITE METAL LANTERN|       6|2010-12-01 08:26:00|     3.39|   17850.0|United Kingdom|       2010|          12|             4|          8|\n",
      "|   536365|   84406B|CREAM CUPID HEART...|       8|2010-12-01 08:26:00|     2.75|   17850.0|United Kingdom|       2010|          12|             4|          8|\n",
      "|   536365|   84029G|KNITTED UNION FLA...|       6|2010-12-01 08:26:00|     3.39|   17850.0|United Kingdom|       2010|          12|             4|          8|\n",
      "|   536365|   84029E|RED WOOLLY HOTTIE...|       6|2010-12-01 08:26:00|     3.39|   17850.0|United Kingdom|       2010|          12|             4|          8|\n",
      "+---------+---------+--------------------+--------+-------------------+---------+----------+--------------+-----------+------------+--------------+-----------+\n",
      "only showing top 5 rows\n",
      "\n"
     ]
    },
    {
     "name": "stderr",
     "output_type": "stream",
     "text": [
      "                                                                                \r"
     ]
    }
   ],
   "source": [
    "parquet_path = \"wasbs://retail-data@dataintensiveproject.blob.core.windows.net/clean/retail_cleaned\"\n",
    "\n",
    "df = spark.read.parquet(parquet_path)\n",
    "df.printSchema()\n",
    "df.show(5)"
   ]
  },
  {
   "cell_type": "code",
   "execution_count": 20,
   "id": "8fb6442c",
   "metadata": {},
   "outputs": [
    {
     "name": "stdout",
     "output_type": "stream",
     "text": [
      "Total Rows: 397884\n",
      "Total Columns: 12\n",
      "+---------+---------+-----------+--------+-----------+---------+----------+-------+-----------+------------+--------------+-----------+\n",
      "|InvoiceNo|StockCode|Description|Quantity|InvoiceDate|UnitPrice|CustomerID|Country|InvoiceYear|InvoiceMonth|InvoiceWeekday|InvoiceHour|\n",
      "+---------+---------+-----------+--------+-----------+---------+----------+-------+-----------+------------+--------------+-----------+\n",
      "|        0|        0|          0|       0|          0|        0|         0|      0|          0|           0|             0|          0|\n",
      "+---------+---------+-----------+--------+-----------+---------+----------+-------+-----------+------------+--------------+-----------+\n",
      "\n"
     ]
    },
    {
     "name": "stderr",
     "output_type": "stream",
     "text": [
      "                                                                                \r"
     ]
    }
   ],
   "source": [
    "# Basic row & column info\n",
    "print(f\"Total Rows: {df.count()}\")\n",
    "print(f\"Total Columns: {len(df.columns)}\")\n",
    "\n",
    "# Check for nulls in each column\n",
    "df.select([count(when(col(c).isNull(), c)).alias(c) for c in df.columns]).show()"
   ]
  },
  {
   "cell_type": "code",
   "execution_count": 30,
   "id": "2007aca1",
   "metadata": {},
   "outputs": [
    {
     "name": "stderr",
     "output_type": "stream",
     "text": [
      "[Stage 33:>                                                         (0 + 1) / 1]\r"
     ]
    },
    {
     "name": "stdout",
     "output_type": "stream",
     "text": [
      "+----------------------------------+---------+\n",
      "|Description                       |TotalSold|\n",
      "+----------------------------------+---------+\n",
      "|WHITE HANGING HEART T-LIGHT HOLDER|2028     |\n",
      "|REGENCY CAKESTAND 3 TIER          |1723     |\n",
      "|JUMBO BAG RED RETROSPOT           |1618     |\n",
      "|ASSORTED COLOUR BIRD ORNAMENT     |1408     |\n",
      "|PARTY BUNTING                     |1396     |\n",
      "|LUNCH BAG RED RETROSPOT           |1316     |\n",
      "|SET OF 3 CAKE TINS PANTRY DESIGN  |1159     |\n",
      "|LUNCH BAG  BLACK SKULL.           |1105     |\n",
      "|POSTAGE                           |1099     |\n",
      "|PACK OF 72 RETROSPOT CAKE CASES   |1068     |\n",
      "+----------------------------------+---------+\n",
      "only showing top 10 rows\n",
      "\n"
     ]
    },
    {
     "name": "stderr",
     "output_type": "stream",
     "text": [
      "                                                                                \r"
     ]
    }
   ],
   "source": [
    "#Top 10 Selling Products(by Quantity)\n",
    "\n",
    "df.groupBy(\"Description\") \\\n",
    "  .agg(count(\"Quantity\").alias(\"TotalSold\")) \\\n",
    "  .orderBy(\"TotalSold\", ascending=False) \\\n",
    "  .show(10, truncate=False)"
   ]
  },
  {
   "cell_type": "code",
   "execution_count": 32,
   "id": "5c694d73",
   "metadata": {},
   "outputs": [
    {
     "name": "stdout",
     "output_type": "stream",
     "text": [
      "+---------------+-------------+\n",
      "|Country        |TotalInvoices|\n",
      "+---------------+-------------+\n",
      "|United Kingdom |354321       |\n",
      "|Germany        |9040         |\n",
      "|France         |8341         |\n",
      "|EIRE           |7236         |\n",
      "|Spain          |2484         |\n",
      "|Netherlands    |2359         |\n",
      "|Belgium        |2031         |\n",
      "|Switzerland    |1841         |\n",
      "|Portugal       |1462         |\n",
      "|Australia      |1182         |\n",
      "|Norway         |1071         |\n",
      "|Italy          |758          |\n",
      "|Channel Islands|748          |\n",
      "|Finland        |685          |\n",
      "|Cyprus         |614          |\n",
      "|Sweden         |451          |\n",
      "|Austria        |398          |\n",
      "|Denmark        |380          |\n",
      "|Poland         |330          |\n",
      "|Japan          |321          |\n",
      "+---------------+-------------+\n",
      "only showing top 20 rows\n",
      "\n"
     ]
    }
   ],
   "source": [
    "#Total sales by Country\n",
    "\n",
    "df.groupBy(\"Country\") \\\n",
    "  .agg(count(\"InvoiceNo\").alias(\"TotalInvoices\")) \\\n",
    "  .orderBy(\"TotalInvoices\", ascending=False) \\\n",
    "  .show(truncate=False)"
   ]
  },
  {
   "cell_type": "code",
   "execution_count": null,
   "id": "f7bf1fc7",
   "metadata": {},
   "outputs": [
    {
     "name": "stdout",
     "output_type": "stream",
     "text": [
      "+-----------+------------+-----+\n",
      "|InvoiceYear|InvoiceMonth|count|\n",
      "+-----------+------------+-----+\n",
      "|       2010|          12|26157|\n",
      "|       2011|           1|21229|\n",
      "|       2011|           2|19927|\n",
      "|       2011|           3|27175|\n",
      "|       2011|           4|22642|\n",
      "|       2011|           5|28320|\n",
      "|       2011|           6|27185|\n",
      "|       2011|           7|26825|\n",
      "|       2011|           8|27007|\n",
      "|       2011|           9|40028|\n",
      "|       2011|          10|49554|\n",
      "|       2011|          11|64531|\n",
      "|       2011|          12|17304|\n",
      "+-----------+------------+-----+\n",
      "\n"
     ]
    }
   ],
   "source": [
    "#Sales Distribution by Year-Month\n",
    "\n",
    "df.groupBy(\"InvoiceYear\", \"InvoiceMonth\") \\\n",
    "  .count() \\\n",
    "  .orderBy(\"InvoiceYear\", \"InvoiceMonth\") \\\n",
    "  .show(20)\n"
   ]
  },
  {
   "cell_type": "code",
   "execution_count": null,
   "id": "217484e7",
   "metadata": {},
   "outputs": [
    {
     "name": "stdout",
     "output_type": "stream",
     "text": [
      "+--------------+-----------+-----+\n",
      "|InvoiceWeekday|InvoiceHour|count|\n",
      "+--------------+-----------+-----+\n",
      "|             1|          9|   25|\n",
      "|             1|         10| 3537|\n",
      "|             1|         11|10217|\n",
      "|             1|         12|13425|\n",
      "|             1|         13|11673|\n",
      "|             1|         14| 9878|\n",
      "|             1|         15|10055|\n",
      "|             1|         16| 3963|\n",
      "|             2|          7|   61|\n",
      "|             2|          8| 1564|\n",
      "|             2|          9| 4348|\n",
      "|             2|         10| 6132|\n",
      "|             2|         11| 7504|\n",
      "|             2|         12|10731|\n",
      "|             2|         13|10595|\n",
      "|             2|         14| 9212|\n",
      "|             2|         15| 7705|\n",
      "|             2|         16| 4063|\n",
      "|             2|         17| 2978|\n",
      "|             3|          7|   65|\n",
      "+--------------+-----------+-----+\n",
      "only showing top 20 rows\n",
      "\n"
     ]
    }
   ],
   "source": [
    "#Sales by Weekday and Hour\n",
    "\n",
    "df.groupBy(\"InvoiceWeekday\", \"InvoiceHour\") \\\n",
    "  .count() \\\n",
    "  .orderBy(\"InvoiceWeekday\", \"InvoiceHour\") \\\n",
    "  .show(20)\n"
   ]
  },
  {
   "cell_type": "code",
   "execution_count": null,
   "id": "ad88c39d",
   "metadata": {},
   "outputs": [
    {
     "name": "stderr",
     "output_type": "stream",
     "text": [
      "[Stage 23:>                                                         (0 + 1) / 1]\r"
     ]
    },
    {
     "name": "stdout",
     "output_type": "stream",
     "text": [
      "+---------+--------+---------+------------+\n",
      "|InvoiceNo|Quantity|UnitPrice|TotalRevenue|\n",
      "+---------+--------+---------+------------+\n",
      "|   536365|       6|     2.55|        15.3|\n",
      "|   536365|       6|     3.39|       20.34|\n",
      "|   536365|       8|     2.75|        22.0|\n",
      "|   536365|       6|     3.39|       20.34|\n",
      "|   536365|       6|     3.39|       20.34|\n",
      "+---------+--------+---------+------------+\n",
      "only showing top 5 rows\n",
      "\n"
     ]
    },
    {
     "name": "stderr",
     "output_type": "stream",
     "text": [
      "                                                                                \r"
     ]
    }
   ],
   "source": [
    "#Total Revenue per Transaction (add a new column)\n",
    "\n",
    "df = df.withColumn(\"TotalRevenue\", round(col(\"Quantity\") * col(\"UnitPrice\"), 2))\n",
    "df.select(\"InvoiceNo\", \"Quantity\", \"UnitPrice\", \"TotalRevenue\").show(5)\n"
   ]
  },
  {
   "cell_type": "code",
   "execution_count": null,
   "id": "59d2c504",
   "metadata": {},
   "outputs": [
    {
     "name": "stdout",
     "output_type": "stream",
     "text": [
      "+----------+------------------+\n",
      "|CustomerID|        TotalSpent|\n",
      "+----------+------------------+\n",
      "|   14646.0|280206.01999999984|\n",
      "|   18102.0|259657.30000000005|\n",
      "|   17450.0|194550.79000000007|\n",
      "|   16446.0|          168472.5|\n",
      "|   14911.0|143825.05999999944|\n",
      "|   12415.0|124914.52999999975|\n",
      "|   14156.0| 117379.6299999998|\n",
      "|   17511.0| 91062.37999999996|\n",
      "|   16029.0| 81024.84000000001|\n",
      "|   12346.0|           77183.6|\n",
      "+----------+------------------+\n",
      "only showing top 10 rows\n",
      "\n"
     ]
    },
    {
     "name": "stderr",
     "output_type": "stream",
     "text": [
      "                                                                                \r"
     ]
    }
   ],
   "source": [
    "#Revenue by Customer\n",
    "\n",
    "df.groupBy(\"CustomerID\") \\\n",
    "  .agg({\"TotalRevenue\": \"sum\"}) \\\n",
    "  .withColumnRenamed(\"sum(TotalRevenue)\", \"TotalSpent\") \\\n",
    "  .orderBy(\"TotalSpent\", ascending=False) \\\n",
    "  .show(10)\n"
   ]
  },
  {
   "cell_type": "code",
   "execution_count": null,
   "id": "27827489",
   "metadata": {},
   "outputs": [
    {
     "name": "stderr",
     "output_type": "stream",
     "text": [
      "[Stage 27:>                                                         (0 + 1) / 1]\r"
     ]
    },
    {
     "name": "stdout",
     "output_type": "stream",
     "text": [
      "+----------------------------------+------------------+\n",
      "|Description                       |RevenueGenerated  |\n",
      "+----------------------------------+------------------+\n",
      "|PAPER CRAFT , LITTLE BIRDIE       |168469.6          |\n",
      "|REGENCY CAKESTAND 3 TIER          |142592.94999999963|\n",
      "|WHITE HANGING HEART T-LIGHT HOLDER|100448.14999999866|\n",
      "|JUMBO BAG RED RETROSPOT           |85220.78000000192 |\n",
      "|MEDIUM CERAMIC TOP STORAGE JAR    |81416.72999999995 |\n",
      "|POSTAGE                           |77803.95999999999 |\n",
      "|PARTY BUNTING                     |68844.33000000037 |\n",
      "|ASSORTED COLOUR BIRD ORNAMENT     |56580.33999999958 |\n",
      "|Manual                            |53779.929999999964|\n",
      "|RABBIT NIGHT LIGHT                |51346.200000000135|\n",
      "+----------------------------------+------------------+\n",
      "only showing top 10 rows\n",
      "\n"
     ]
    },
    {
     "name": "stderr",
     "output_type": "stream",
     "text": [
      "                                                                                \r"
     ]
    }
   ],
   "source": [
    "#Most Purchased Products by Revenue\n",
    "\n",
    "df.groupBy(\"Description\") \\\n",
    "  .agg({\"TotalRevenue\": \"sum\"}) \\\n",
    "  .withColumnRenamed(\"sum(TotalRevenue)\", \"RevenueGenerated\") \\\n",
    "  .orderBy(\"RevenueGenerated\", ascending=False) \\\n",
    "  .show(10, truncate=False)\n"
   ]
  },
  {
   "cell_type": "code",
   "execution_count": null,
   "id": "5c77f0b1",
   "metadata": {},
   "outputs": [
    {
     "name": "stdout",
     "output_type": "stream",
     "text": [
      "+-----------+------------+------------------+\n",
      "|InvoiceYear|InvoiceMonth| sum(TotalRevenue)|\n",
      "+-----------+------------+------------------+\n",
      "|       2010|          12| 572713.8900000163|\n",
      "|       2011|           1| 569445.0400000077|\n",
      "|       2011|           2| 447137.3500000165|\n",
      "|       2011|           3|  595500.760000013|\n",
      "|       2011|           4| 469200.3600000132|\n",
      "|       2011|           5| 678594.5600000018|\n",
      "|       2011|           6| 661213.6900000116|\n",
      "|       2011|           7| 600091.0100000141|\n",
      "|       2011|           8|  645343.900000009|\n",
      "|       2011|           9| 952838.3799999963|\n",
      "|       2011|          10|1039318.7899999822|\n",
      "|       2011|          11|1161817.3799999433|\n",
      "|       2011|          12| 518192.7900000037|\n",
      "+-----------+------------+------------------+\n",
      "\n"
     ]
    },
    {
     "name": "stderr",
     "output_type": "stream",
     "text": [
      "                                                                                \r"
     ]
    }
   ],
   "source": [
    "#Monthly Revenue Trend\n",
    "\n",
    "df.groupBy(\"InvoiceYear\", \"InvoiceMonth\") \\\n",
    "  .agg({\"TotalRevenue\": \"sum\"}) \\\n",
    "  .orderBy(\"InvoiceYear\", \"InvoiceMonth\") \\\n",
    "  .show(20)\n"
   ]
  }
 ],
 "metadata": {
  "kernelspec": {
   "display_name": "datascience",
   "language": "python",
   "name": "python3"
  },
  "language_info": {
   "codemirror_mode": {
    "name": "ipython",
    "version": 3
   },
   "file_extension": ".py",
   "mimetype": "text/x-python",
   "name": "python",
   "nbconvert_exporter": "python",
   "pygments_lexer": "ipython3",
   "version": "3.8.15"
  }
 },
 "nbformat": 4,
 "nbformat_minor": 5
}
