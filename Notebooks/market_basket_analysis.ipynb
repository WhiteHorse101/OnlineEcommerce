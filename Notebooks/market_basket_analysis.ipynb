{
 "cells": [
  {
   "cell_type": "code",
   "execution_count": 9,
   "id": "87cc51f2",
   "metadata": {},
   "outputs": [
    {
     "name": "stderr",
     "output_type": "stream",
     "text": [
      "Python-dotenv could not parse statement starting at line 2\n",
      "Python-dotenv could not parse statement starting at line 3\n",
      "Python-dotenv could not parse statement starting at line 4\n"
     ]
    }
   ],
   "source": [
    "from pyspark.sql import SparkSession\n",
    "from pyspark.sql.functions import collect_set, col\n",
    "from dotenv import load_dotenv\n",
    "import os\n",
    "from pyspark.ml.fpm import FPGrowth\n",
    "\n",
    "# Load environment variables\n",
    "load_dotenv()\n",
    "\n",
    "# Initialize Spark session\n",
    "spark = SparkSession.builder \\\n",
    "    .appName(\"MarketBasketAnalysis\") \\\n",
    "    .config(\"spark.jars.packages\", \"org.apache.hadoop:hadoop-azure:3.3.1\") \\\n",
    "    .config(\"fs.azure.account.key.dataintensiveproject.blob.core.windows.net\", os.getenv(\"AZURE_STORAGE_KEY\")) \\\n",
    "    .getOrCreate()\n"
   ]
  },
  {
   "cell_type": "code",
   "execution_count": 2,
   "id": "4073917c",
   "metadata": {},
   "outputs": [
    {
     "name": "stderr",
     "output_type": "stream",
     "text": [
      "25/04/21 21:00:10 WARN MetricsConfig: Cannot locate configuration: tried hadoop-metrics2-azure-file-system.properties,hadoop-metrics2.properties\n"
     ]
    }
   ],
   "source": [
    "# 📂 Step 2: Read cleaned dataset from Azure Blob Storage\n",
    "# Update this path if your container or file path is different\n",
    "data_path = \"wasbs://retail-data@dataintensiveproject.blob.core.windows.net/clean/retail_cleaned\"\n",
    "retail_df = spark.read.parquet(data_path)\n"
   ]
  },
  {
   "cell_type": "code",
   "execution_count": 6,
   "id": "e439793d",
   "metadata": {},
   "outputs": [],
   "source": [
    "# 🧹 Step 3: Filter invalid transactions (Quantity > 0 and valid InvoiceNo)\n",
    "transactions_df = retail_df.filter(\n",
    "    (col(\"InvoiceNo\").isNotNull()) & \n",
    "    (col(\"Quantity\") > 0)\n",
    ")"
   ]
  },
  {
   "cell_type": "code",
   "execution_count": 7,
   "id": "25f9fbb8",
   "metadata": {},
   "outputs": [],
   "source": [
    "# 🧺 Step 4: Group by InvoiceNo to create item baskets\n",
    "basket_df = transactions_df.groupBy(\"InvoiceNo\") \\\n",
    "    .agg(collect_set(\"Description\").alias(\"items\"))"
   ]
  },
  {
   "cell_type": "code",
   "execution_count": 10,
   "id": "da212e95",
   "metadata": {},
   "outputs": [
    {
     "name": "stderr",
     "output_type": "stream",
     "text": [
      "                                                                                \r"
     ]
    }
   ],
   "source": [
    "# 🧠 Step 5: Train FP-Growth Model\n",
    "fp_growth = FPGrowth(itemsCol=\"items\", minSupport=0.01, minConfidence=0.2)\n",
    "model = fp_growth.fit(basket_df)"
   ]
  },
  {
   "cell_type": "code",
   "execution_count": 11,
   "id": "c295cb26",
   "metadata": {},
   "outputs": [
    {
     "name": "stdout",
     "output_type": "stream",
     "text": [
      "🔍 Frequent Itemsets:\n"
     ]
    },
    {
     "name": "stderr",
     "output_type": "stream",
     "text": [
      "[Stage 12:>                                                         (0 + 8) / 8]\r"
     ]
    },
    {
     "name": "stdout",
     "output_type": "stream",
     "text": [
      "+------------------------------------+----+\n",
      "|items                               |freq|\n",
      "+------------------------------------+----+\n",
      "|[WHITE HANGING HEART T-LIGHT HOLDER]|1971|\n",
      "|[REGENCY CAKESTAND 3 TIER]          |1703|\n",
      "|[JUMBO BAG RED RETROSPOT]           |1600|\n",
      "|[PARTY BUNTING]                     |1379|\n",
      "|[ASSORTED COLOUR BIRD ORNAMENT]     |1375|\n",
      "|[LUNCH BAG RED RETROSPOT]           |1288|\n",
      "|[SET OF 3 CAKE TINS PANTRY DESIGN ] |1146|\n",
      "|[POSTAGE]                           |1099|\n",
      "|[LUNCH BAG  BLACK SKULL.]           |1052|\n",
      "|[PACK OF 72 RETROSPOT CAKE CASES]   |1029|\n",
      "|[SPOTTY BUNTING]                    |1003|\n",
      "|[LUNCH BAG SPACEBOY DESIGN ]        |988 |\n",
      "|[PAPER CHAIN KIT 50'S CHRISTMAS ]   |980 |\n",
      "|[NATURAL SLATE HEART CHALKBOARD ]   |967 |\n",
      "|[LUNCH BAG CARS BLUE]               |966 |\n",
      "|[HEART OF WICKER SMALL]             |961 |\n",
      "|[LUNCH BAG PINK POLKADOT]           |931 |\n",
      "|[LUNCH BAG SUKI DESIGN ]            |899 |\n",
      "|[JAM MAKING SET WITH JARS]          |878 |\n",
      "|[ALARM CLOCK BAKELIKE RED ]         |877 |\n",
      "+------------------------------------+----+\n",
      "only showing top 20 rows\n",
      "\n"
     ]
    },
    {
     "name": "stderr",
     "output_type": "stream",
     "text": [
      "                                                                                \r"
     ]
    }
   ],
   "source": [
    "# 📊 Step 6: Show Frequent Itemsets\n",
    "print(\"🔍 Frequent Itemsets:\")\n",
    "frequent_itemsets = model.freqItemsets\n",
    "frequent_itemsets.orderBy(\"freq\", ascending=False).show(truncate=False)\n"
   ]
  },
  {
   "cell_type": "code",
   "execution_count": 12,
   "id": "e0916711",
   "metadata": {},
   "outputs": [
    {
     "name": "stdout",
     "output_type": "stream",
     "text": [
      "🔗 Association Rules:\n"
     ]
    },
    {
     "name": "stderr",
     "output_type": "stream",
     "text": [
      "[Stage 16:>                                                         (0 + 8) / 8]\r"
     ]
    },
    {
     "name": "stdout",
     "output_type": "stream",
     "text": [
      "+--------------------------------------------------------------------------------------------+------------------------------------+------------------+------------------+--------------------+\n",
      "|antecedent                                                                                  |consequent                          |confidence        |lift              |support             |\n",
      "+--------------------------------------------------------------------------------------------+------------------------------------+------------------+------------------+--------------------+\n",
      "|[POPPY'S PLAYHOUSE LIVINGROOM , POPPY'S PLAYHOUSE BEDROOM ]                                 |[POPPY'S PLAYHOUSE KITCHEN]         |0.9073170731707317|48.596531791907516|0.010036693287286855|\n",
      "|[PINK REGENCY TEACUP AND SAUCER, ROSES REGENCY TEACUP AND SAUCER , REGENCY CAKESTAND 3 TIER]|[GREEN REGENCY TEACUP AND SAUCER]   |0.9018867924528302|24.18779455533408 |0.012896611266997626|\n",
      "|[REGENCY TEA PLATE PINK]                                                                    |[REGENCY TEA PLATE GREEN ]          |0.9017857142857143|61.89589947089947 |0.010900064752859918|\n",
      "|[PINK REGENCY TEACUP AND SAUCER, ROSES REGENCY TEACUP AND SAUCER ]                          |[GREEN REGENCY TEACUP AND SAUCER]   |0.8944954128440367|23.989564386144263|0.021044679473343406|\n",
      "|[PINK REGENCY TEACUP AND SAUCER, GREEN REGENCY TEACUP AND SAUCER, REGENCY CAKESTAND 3 TIER] |[ROSES REGENCY TEACUP AND SAUCER ]  |0.8819188191881919|20.87320505388962 |0.012896611266997626|\n",
      "|[REGENCY TEA PLATE PINK]                                                                    |[REGENCY TEA PLATE ROSES ]          |0.8794642857142857|49.689732142857146|0.010630261169868337|\n",
      "|[PINK REGENCY TEACUP AND SAUCER, REGENCY CAKESTAND 3 TIER]                                  |[GREEN REGENCY TEACUP AND SAUCER]   |0.8770226537216829|23.520960663922178|0.014623354198143751|\n",
      "|[POPPY'S PLAYHOUSE LIVINGROOM , POPPY'S PLAYHOUSE KITCHEN]                                  |[POPPY'S PLAYHOUSE BEDROOM ]        |0.8651162790697674|50.73523697380041 |0.010036693287286855|\n",
      "|[PINK REGENCY TEACUP AND SAUCER, REGENCY CAKESTAND 3 TIER]                                  |[ROSES REGENCY TEACUP AND SAUCER ]  |0.8576051779935275|20.2977511603781  |0.014299589898553853|\n",
      "|[POPPY'S PLAYHOUSE LIVINGROOM ]                                                             |[POPPY'S PLAYHOUSE KITCHEN]         |0.8531746031746031|45.69662354344435 |0.011601554068638031|\n",
      "|[REGENCY TEA PLATE GREEN ]                                                                  |[REGENCY TEA PLATE ROSES ]          |0.8481481481481481|47.92037037037037 |0.012357004101014462|\n",
      "|[PINK REGENCY TEACUP AND SAUCER, GREEN REGENCY TEACUP AND SAUCER]                           |[ROSES REGENCY TEACUP AND SAUCER ]  |0.8478260869565217|20.06630018324171 |0.021044679473343406|\n",
      "|[GREEN REGENCY TEACUP AND SAUCER, REGENCY CAKESTAND 3 TIER]                                 |[ROSES REGENCY TEACUP AND SAUCER ]  |0.8342245989304813|19.744380928965107|0.016835743578674726|\n",
      "|[SET/6 RED SPOTTY PAPER CUPS]                                                               |[SET/6 RED SPOTTY PAPER PLATES]     |0.8280701754385965|47.217835357624836|0.012734729117202677|\n",
      "|[PINK REGENCY TEACUP AND SAUCER]                                                            |[GREEN REGENCY TEACUP AND SAUCER]   |0.8273381294964028|22.188466303657506|0.024821929635225556|\n",
      "|[WOODEN TREE CHRISTMAS SCANDINAVIAN]                                                        |[WOODEN STAR CHRISTMAS SCANDINAVIAN]|0.8188405797101449|35.04562037687854 |0.012195121951219513|\n",
      "|[POPPY'S PLAYHOUSE LIVINGROOM ]                                                             |[POPPY'S PLAYHOUSE BEDROOM ]        |0.8134920634920635|47.70770544504722 |0.011061946902654867|\n",
      "|[POPPY'S PLAYHOUSE BEDROOM ]                                                                |[POPPY'S PLAYHOUSE KITCHEN]         |0.8037974683544303|43.05194995244018 |0.013706022015972373|\n",
      "|[JUMBO BAG STRAWBERRY, JUMBO BAG PINK POLKADOT]                                             |[JUMBO BAG RED RETROSPOT]           |0.7918088737201365|9.171126279863481 |0.012518886250809411|\n",
      "|[PINK REGENCY TEACUP AND SAUCER]                                                            |[ROSES REGENCY TEACUP AND SAUCER ]  |0.7841726618705036|18.55975449525437 |0.02352687243686596 |\n",
      "+--------------------------------------------------------------------------------------------+------------------------------------+------------------+------------------+--------------------+\n",
      "only showing top 20 rows\n",
      "\n"
     ]
    },
    {
     "name": "stderr",
     "output_type": "stream",
     "text": [
      "                                                                                \r"
     ]
    }
   ],
   "source": [
    "# 🔁 Step 7: Show Association Rules\n",
    "print(\"🔗 Association Rules:\")\n",
    "association_rules = model.associationRules\n",
    "association_rules.orderBy(\"confidence\", ascending=False).show(truncate=False)\n"
   ]
  },
  {
   "cell_type": "code",
   "execution_count": 13,
   "id": "a9b7dafd",
   "metadata": {},
   "outputs": [
    {
     "name": "stdout",
     "output_type": "stream",
     "text": [
      "💡 Predicted Items for each basket:\n"
     ]
    },
    {
     "name": "stderr",
     "output_type": "stream",
     "text": [
      "[Stage 23:>                                                         (0 + 1) / 1]\r"
     ]
    },
    {
     "name": "stdout",
     "output_type": "stream",
     "text": [
      "+---------+------------------------------------------------------------------------------------------------------------------------------------------------------------------------------------------------------------------------------------------------------------------------------------------------------------------------------------------------------------------------------------------------------------------------------------------------------------------------------------------------------------------------------------------------------------------------------------------------------------------------------+\n",
      "|InvoiceNo|prediction                                                                                                                                                                                                                                                                                                                                                                                                                                                                                                                                                                                                                    |\n",
      "+---------+------------------------------------------------------------------------------------------------------------------------------------------------------------------------------------------------------------------------------------------------------------------------------------------------------------------------------------------------------------------------------------------------------------------------------------------------------------------------------------------------------------------------------------------------------------------------------------------------------------------------------+\n",
      "|536366   |[HAND WARMER OWL DESIGN, HAND WARMER SCOTTY DOG DESIGN]                                                                                                                                                                                                                                                                                                                                                                                                                                                                                                                                                                       |\n",
      "|536374   |[]                                                                                                                                                                                                                                                                                                                                                                                                                                                                                                                                                                                                                            |\n",
      "|536386   |[JUMBO BAG PINK VINTAGE PAISLEY, JUMBO SHOPPER VINTAGE RED PAISLEY, JUMBO BAG STRAWBERRY, LUNCH BAG RED RETROSPOT, JUMBO STORAGE BAG SUKI, JUMBO BAG PINK POLKADOT, JUMBO BAG VINTAGE LEAF, JUMBO BAG APPLES]                                                                                                                                                                                                                                                                                                                                                                                                                 |\n",
      "|536398   |[RETROSPOT HEART HOT WATER BOTTLE, SWEETHEART CERAMIC TRINKET BOX, HAND WARMER UNION JACK, HAND WARMER BIRD DESIGN, HAND WARMER RED LOVE HEART, HOT WATER BOTTLE KEEP CALM]                                                                                                                                                                                                                                                                                                                                                                                                                                                   |\n",
      "|536460   |[PACK OF 60 DINOSAUR CAKE CASES, PACK OF 72 RETROSPOT CAKE CASES, 60 TEATIME FAIRY CAKE CASES, SCOTTIE DOG HOT WATER BOTTLE]                                                                                                                                                                                                                                                                                                                                                                                                                                                                                                  |\n",
      "|536477   |[HAND WARMER OWL DESIGN, HAND WARMER SCOTTY DOG DESIGN, JUMBO BAG PINK VINTAGE PAISLEY, JUMBO BAG SCANDINAVIAN BLUE PAISLEY, JUMBO BAG RED RETROSPOT, LUNCH BAG RED RETROSPOT, JUMBO BAG PINK POLKADOT, JUMBO STORAGE BAG SUKI, JUMBO  BAG BAROQUE BLACK WHITE, JUMBO BAG VINTAGE LEAF, ROSES REGENCY TEACUP AND SAUCER , GREEN REGENCY TEACUP AND SAUCER]                                                                                                                                                                                                                                                                    |\n",
      "|536523   |[CHOCOLATE HOT WATER BOTTLE, PINK REGENCY TEACUP AND SAUCER, REGENCY TEA PLATE ROSES , REGENCY CAKESTAND 3 TIER, GREEN REGENCY TEACUP AND SAUCER, REGENCY TEAPOT ROSES ]                                                                                                                                                                                                                                                                                                                                                                                                                                                      |\n",
      "|536528   |[HAND WARMER SCOTTY DOG DESIGN, HAND WARMER UNION JACK, HAND WARMER RED LOVE HEART, HAND WARMER RED RETROSPOT, PAPER CHAIN KIT 50'S CHRISTMAS , JUMBO BAG PINK VINTAGE PAISLEY, JUMBO BAG SCANDINAVIAN BLUE PAISLEY, JUMBO BAG RED RETROSPOT, LUNCH BAG RED RETROSPOT, JUMBO BAG PINK POLKADOT, JUMBO STORAGE BAG SUKI, JUMBO  BAG BAROQUE BLACK WHITE, JUMBO BAG VINTAGE LEAF, POSTAGE, ROUND SNACK BOXES SET OF 4 FRUITS , FELTCRAFT CUSHION BUTTERFLY, SET OF 4 PANTRY JELLY MOULDS, SET OF 3 CAKE TINS PANTRY DESIGN , RECIPE BOX PANTRY YELLOW DESIGN, ROSES REGENCY TEACUP AND SAUCER , GREEN REGENCY TEACUP AND SAUCER]|\n",
      "|536541   |[BLUE HARMONICA IN BOX ]                                                                                                                                                                                                                                                                                                                                                                                                                                                                                                                                                                                                      |\n",
      "|536577   |[LUNCH BAG  BLACK SKULL., LUNCH BAG ALPHABET DESIGN, LUNCH BAG PINK POLKADOT, LUNCH BAG SUKI DESIGN , LUNCH BAG SPACEBOY DESIGN , LUNCH BAG DOLLY GIRL DESIGN, LUNCH BAG VINTAGE LEAF DESIGN, LUNCH BAG WOODLAND, JUMBO BAG RED RETROSPOT, LUNCH BAG CARS BLUE, LUNCH BAG APPLE DESIGN, SWEETHEART CERAMIC TRINKET BOX]                                                                                                                                                                                                                                                                                                       |\n",
      "+---------+------------------------------------------------------------------------------------------------------------------------------------------------------------------------------------------------------------------------------------------------------------------------------------------------------------------------------------------------------------------------------------------------------------------------------------------------------------------------------------------------------------------------------------------------------------------------------------------------------------------------------+\n",
      "only showing top 10 rows\n",
      "\n"
     ]
    },
    {
     "name": "stderr",
     "output_type": "stream",
     "text": [
      "                                                                                \r"
     ]
    }
   ],
   "source": [
    "# 🛒 Step 8: Optional - Predict Recommendations for each basket\n",
    "print(\"💡 Predicted Items for each basket:\")\n",
    "predictions = model.transform(basket_df)\n",
    "predictions.select(\"InvoiceNo\", \"prediction\").show(10, truncate=False)\n"
   ]
  },
  {
   "cell_type": "code",
   "execution_count": 16,
   "id": "9c696f3e",
   "metadata": {},
   "outputs": [
    {
     "name": "stderr",
     "output_type": "stream",
     "text": [
      "                                                                                \r"
     ]
    }
   ],
   "source": [
    "basket_df.toPandas().to_csv(\"PowerBI/market_basket_rules.csv\", index=False)"
   ]
  },
  {
   "cell_type": "code",
   "execution_count": null,
   "id": "1caedfe0",
   "metadata": {},
   "outputs": [],
   "source": []
  }
 ],
 "metadata": {
  "kernelspec": {
   "display_name": "datascience",
   "language": "python",
   "name": "python3"
  },
  "language_info": {
   "codemirror_mode": {
    "name": "ipython",
    "version": 3
   },
   "file_extension": ".py",
   "mimetype": "text/x-python",
   "name": "python",
   "nbconvert_exporter": "python",
   "pygments_lexer": "ipython3",
   "version": "3.8.15"
  }
 },
 "nbformat": 4,
 "nbformat_minor": 5
}
